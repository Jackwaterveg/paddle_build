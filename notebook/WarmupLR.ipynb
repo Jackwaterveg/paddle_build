{
 "cells": [
  {
   "cell_type": "code",
   "execution_count": 14,
   "id": "a527ecb6",
   "metadata": {},
   "outputs": [
    {
     "name": "stdout",
     "output_type": "stream",
     "text": [
      "Requirement already satisfied: matplotlib in /workspace/DeepSpeech-2.x/tools/venv/lib/python3.7/site-packages (3.4.3)\n",
      "Requirement already satisfied: pillow>=6.2.0 in /workspace/DeepSpeech-2.x/tools/venv/lib/python3.7/site-packages (from matplotlib) (8.4.0)\n",
      "Requirement already satisfied: numpy>=1.16 in /workspace/DeepSpeech-2.x/tools/venv/lib/python3.7/site-packages (from matplotlib) (1.20.0)\n",
      "Requirement already satisfied: pyparsing>=2.2.1 in /workspace/DeepSpeech-2.x/tools/venv/lib/python3.7/site-packages (from matplotlib) (2.4.7)\n",
      "Requirement already satisfied: cycler>=0.10 in /workspace/DeepSpeech-2.x/tools/venv/lib/python3.7/site-packages (from matplotlib) (0.10.0)\n",
      "Requirement already satisfied: kiwisolver>=1.0.1 in /workspace/DeepSpeech-2.x/tools/venv/lib/python3.7/site-packages (from matplotlib) (1.3.2)\n",
      "Requirement already satisfied: python-dateutil>=2.7 in /workspace/DeepSpeech-2.x/tools/venv/lib/python3.7/site-packages (from matplotlib) (2.8.2)\n",
      "Requirement already satisfied: six in /workspace/DeepSpeech-2.x/tools/venv/lib/python3.7/site-packages (from cycler>=0.10->matplotlib) (1.16.0)\n",
      "\u001b[33mWARNING: You are using pip version 20.3.3; however, version 21.3.1 is available.\n",
      "You should consider upgrading via the '/workspace/DeepSpeech-2.x/tools/venv/bin/python -m pip install --upgrade pip' command.\u001b[0m\n"
     ]
    }
   ],
   "source": [
    "!pip install matplotlib\n",
    "import matplotlib.pyplot as plt\n",
    "\n",
    "%matplotlib inline"
   ]
  },
  {
   "cell_type": "code",
   "execution_count": 15,
   "id": "d6a0e098",
   "metadata": {},
   "outputs": [],
   "source": [
    "from typing import Union\n",
    "import torch\n",
    "from torch.optim.lr_scheduler import _LRScheduler\n",
    "from typeguard import check_argument_types\n",
    "\n",
    "\n",
    "class WarmupLR(_LRScheduler):\n",
    "    \"\"\"The WarmupLR scheduler\n",
    "    This scheduler is almost same as NoamLR Scheduler except for following\n",
    "    difference:\n",
    "    NoamLR:\n",
    "        lr = optimizer.lr * model_size ** -0.5\n",
    "             * min(step ** -0.5, step * warmup_step ** -1.5)\n",
    "    WarmupLR:\n",
    "        lr = optimizer.lr * warmup_step ** 0.5\n",
    "             * min(step ** -0.5, step * warmup_step ** -1.5)\n",
    "    Note that the maximum lr equals to optimizer.lr in this scheduler.\n",
    "    \"\"\"\n",
    "\n",
    "    def __init__(\n",
    "        self,\n",
    "        optimizer: torch.optim.Optimizer,\n",
    "        warmup_steps: Union[int, float] = 25000,\n",
    "        last_epoch: int = -1,\n",
    "    ):\n",
    "        assert check_argument_types()\n",
    "        self.warmup_steps = warmup_steps\n",
    "\n",
    "        # __init__() must be invoked before setting field\n",
    "        # because step() is also invoked in __init__()\n",
    "        super().__init__(optimizer, last_epoch)\n",
    "\n",
    "    def __repr__(self):\n",
    "        return f\"{self.__class__.__name__}(warmup_steps={self.warmup_steps})\"\n",
    "\n",
    "    def get_lr(self):\n",
    "        step_num = self.last_epoch + 1\n",
    "        return [\n",
    "            lr\n",
    "            * self.warmup_steps ** 0.5\n",
    "            * min(step_num ** -0.5, step_num * self.warmup_steps ** -1.5)\n",
    "            for lr in self.base_lrs\n",
    "        ]\n",
    "\n",
    "    def set_step(self, step: int):\n",
    "        self.last_epoch = step"
   ]
  },
  {
   "cell_type": "code",
   "execution_count": 16,
   "id": "0d496677",
   "metadata": {},
   "outputs": [],
   "source": [
    "import torch.optim as optim\n",
    "model = torch.nn.Linear(10, 200)\n",
    "optimizer = optim.Adam(model.parameters())\n",
    "scheduler = WarmupLR(optimizer, warmup_steps=25000)"
   ]
  },
  {
   "cell_type": "code",
   "execution_count": 17,
   "id": "e3e3f3dc",
   "metadata": {},
   "outputs": [
    {
     "name": "stdout",
     "output_type": "stream",
     "text": [
      "0 0.0 -1\n"
     ]
    }
   ],
   "source": [
    "infos = {}\n",
    "start_epoch = infos.get('epoch', -1) + 1\n",
    "cv_loss = infos.get('cv_loss', 0.0)\n",
    "step = infos.get('step', -1)\n",
    "print(start_epoch, cv_loss, step)"
   ]
  },
  {
   "cell_type": "code",
   "execution_count": 31,
   "id": "dc3d550c",
   "metadata": {},
   "outputs": [
    {
     "name": "stdout",
     "output_type": "stream",
     "text": [
      "-1\n"
     ]
    }
   ],
   "source": [
    "print(step)\n",
    "scheduler.set_step(step)"
   ]
  },
  {
   "cell_type": "code",
   "execution_count": 32,
   "id": "e527634e",
   "metadata": {},
   "outputs": [
    {
     "data": {
      "text/plain": [
       "[<matplotlib.lines.Line2D at 0x7f73ae342cf8>]"
      ]
     },
     "execution_count": 32,
     "metadata": {},
     "output_type": "execute_result"
    },
    {
     "data": {
      "image/png": "[encoded data removed]",
      "text/plain": [
       "<Figure size 432x288 with 1 Axes>"
      ]
     },
     "metadata": {
      "needs_background": "light"
     },
     "output_type": "display_data"
    }
   ],
   "source": [
    "tot=100000\n",
    "lrs=[]\n",
    "for i in range(tot):\n",
    "    scheduler.step()\n",
    "    lrs.append(scheduler.get_lr())\n",
    "xs = list(range(tot))\n",
    "plt.plot(xs, lrs)"
   ]
  },
  {
   "cell_type": "code",
   "execution_count": null,
   "id": "f1452db9",
   "metadata": {},
   "outputs": [],
   "source": []
  },
  {
   "cell_type": "code",
   "execution_count": null,
   "id": "0f36d04f",
   "metadata": {},
   "outputs": [],
   "source": []
  },
  {
   "cell_type": "code",
   "execution_count": 28,
   "id": "4f4e282c",
   "metadata": {},
   "outputs": [],
   "source": [
    "#paddle\n",
    "from typing import Union\n",
    "from paddle.optimizer.lr import LRScheduler\n",
    "from typeguard import check_argument_types\n",
    "\n",
    "class WarmupLR(LRScheduler):\n",
    "    \"\"\"The WarmupLR scheduler\n",
    "    This scheduler is almost same as NoamLR Scheduler except for following\n",
    "    difference:\n",
    "    NoamLR:\n",
    "        lr = optimizer.lr * model_size ** -0.5\n",
    "             * min(step ** -0.5, step * warmup_step ** -1.5)\n",
    "    WarmupLR:\n",
    "        lr = optimizer.lr * warmup_step ** 0.5\n",
    "             * min(step ** -0.5, step * warmup_step ** -1.5)\n",
    "    Note that the maximum lr equals to optimizer.lr in this scheduler.\n",
    "    \"\"\"\n",
    "\n",
    "    def __init__(self,\n",
    "                 warmup_steps: Union[int, float]=25000,\n",
    "                 learning_rate=1.0,\n",
    "                 last_epoch=-1,\n",
    "                 verbose=False):\n",
    "        assert check_argument_types()\n",
    "        self.warmup_steps = warmup_steps\n",
    "        super().__init__(learning_rate, last_epoch, verbose)\n",
    "\n",
    "    def __repr__(self):\n",
    "        return f\"{self.__class__.__name__}(warmup_steps={self.warmup_steps})\"\n",
    "\n",
    "    def get_lr(self):\n",
    "        step_num = self.last_epoch + 1\n",
    "        return self.base_lr * self.warmup_steps**0.5 * min(\n",
    "            step_num**-0.5, step_num * self.warmup_steps**-1.5)\n",
    "\n",
    "    def set_step(self, step: int):\n",
    "        self.step(step)"
   ]
  },
  {
   "cell_type": "code",
   "execution_count": 39,
   "id": "8c40b202",
   "metadata": {},
   "outputs": [
    {
     "name": "stdout",
     "output_type": "stream",
     "text": [
      "-1\n"
     ]
    },
    {
     "data": {
      "text/plain": [
       "[<matplotlib.lines.Line2D at 0x7f73ae238940>]"
      ]
     },
     "execution_count": 39,
     "metadata": {},
     "output_type": "execute_result"
    },
    {
     "data": {
      "image/png": "[encoded data removed]",
      "text/plain": [
       "<Figure size 432x288 with 1 Axes>"
      ]
     },
     "metadata": {
      "needs_background": "light"
     },
     "output_type": "display_data"
    }
   ],
   "source": [
    "sc = WarmupLR(warmup_steps=25000, learning_rate=0.001)\n",
    "print(step)\n",
    "#sc.set_step(step)\n",
    "sc.set_step(0)\n",
    "lrs=[]\n",
    "for i in range(tot):\n",
    "    sc.step()\n",
    "    lrs.append(sc.get_lr())\n",
    "xs = list(range(tot))\n",
    "plt.plot(xs, lrs)"
   ]
  },
  {
   "cell_type": "code",
   "execution_count": 40,
   "id": "ecbc7e37",
   "metadata": {},
   "outputs": [
    {
     "name": "stdout",
     "output_type": "stream",
     "text": [
      "-1\n"
     ]
    },
    {
     "data": {
      "text/plain": [
       "[<matplotlib.lines.Line2D at 0x7f74f96eaf60>]"
      ]
     },
     "execution_count": 40,
     "metadata": {},
     "output_type": "execute_result"
    },
    {
     "data": {
      "image/png": "[encoded data removed]",
      "text/plain": [
       "<Figure size 432x288 with 1 Axes>"
      ]
     },
     "metadata": {
      "needs_background": "light"
     },
     "output_type": "display_data"
    }
   ],
   "source": [
    "sc = WarmupLR(warmup_steps=25000, learning_rate=0.0004)\n",
    "print(step)\n",
    "#sc.set_step(step)\n",
    "sc.set_step(0)\n",
    "lrs=[]\n",
    "for i in range(tot):\n",
    "    sc.step()\n",
    "    lrs.append(sc.get_lr())\n",
    "xs = list(range(tot))\n",
    "plt.plot(xs, lrs)"
   ]
  },
  {
   "cell_type": "code",
   "execution_count": null,
   "id": "e613fe16",
   "metadata": {},
   "outputs": [],
   "source": []
  },
  {
   "cell_type": "code",
   "execution_count": 2,
   "id": "4d857efb",
   "metadata": {},
   "outputs": [
    {
     "data": {
      "text/plain": [
       "CPUPlace"
      ]
     },
     "execution_count": 2,
     "metadata": {},
     "output_type": "execute_result"
    }
   ],
   "source": [
    "#paddle noam\n",
    "import paddle\n",
    "paddle.set_device('cpu')"
   ]
  },
  {
   "cell_type": "code",
   "execution_count": 36,
   "id": "f0fd9f40",
   "metadata": {},
   "outputs": [
    {
     "data": {
      "text/plain": [
       "[<matplotlib.lines.Line2D at 0x7f74fbae7630>]"
      ]
     },
     "execution_count": 36,
     "metadata": {},
     "output_type": "execute_result"
    },
    {
     "data": {
      "image/png": "[encoded data removed]",
      "text/plain": [
       "<Figure size 432x288 with 1 Axes>"
      ]
     },
     "metadata": {
      "needs_background": "light"
     },
     "output_type": "display_data"
    }
   ],
   "source": [
    "d_model=256\n",
    "warmup_steps=25000\n",
    "learning_rate=1\n",
    "sc=paddle.optimizer.lr.NoamDecay(d_model, warmup_steps, learning_rate=learning_rate, last_epoch=- 1, verbose=False)\n",
    "sc.step(0)\n",
    "lrs=[]\n",
    "for i in range(tot):\n",
    "    sc.step()\n",
    "    lrs.append(sc.get_lr())\n",
    "xs = list(range(tot))\n",
    "plt.plot(xs, lrs)"
   ]
  },
  {
   "cell_type": "code",
   "execution_count": null,
   "id": "30b05f46",
   "metadata": {},
   "outputs": [],
   "source": []
  },
  {
   "cell_type": "code",
   "execution_count": null,
   "id": "27090067",
   "metadata": {},
   "outputs": [],
   "source": []
  },
  {
   "cell_type": "code",
   "execution_count": 42,
   "id": "b3db6be5",
   "metadata": {},
   "outputs": [
    {
     "data": {
      "text/plain": [
       "[<matplotlib.lines.Line2D at 0x7f752da8c2b0>]"
      ]
     },
     "execution_count": 42,
     "metadata": {},
     "output_type": "execute_result"
    },
    {
     "data": {
      "image/png": "[encoded data removed]",
      "text/plain": [
       "<Figure size 432x288 with 1 Axes>"
      ]
     },
     "metadata": {
      "needs_background": "light"
     },
     "output_type": "display_data"
    }
   ],
   "source": [
    "d_model=256\n",
    "warmup_steps=25000\n",
    "learning_rate=2.5\n",
    "sc=paddle.optimizer.lr.NoamDecay(d_model, warmup_steps, learning_rate=learning_rate, last_epoch=- 1, verbose=False)\n",
    "sc.step(0)\n",
    "lrs=[]\n",
    "for i in range(tot):\n",
    "    sc.step()\n",
    "    lrs.append(sc.get_lr())\n",
    "xs = list(range(tot))\n",
    "plt.plot(xs, lrs)"
   ]
  },
  {
   "cell_type": "code",
   "execution_count": null,
   "id": "2b656537",
   "metadata": {},
   "outputs": [],
   "source": []
  }
 ],
 "metadata": {
  "kernelspec": {
   "display_name": "Python 3 (ipykernel)",
   "language": "python",
   "name": "python3"
  },
  "language_info": {
   "codemirror_mode": {
    "name": "ipython",
    "version": 3
   },
   "file_extension": ".py",
   "mimetype": "text/x-python",
   "name": "python",
   "nbconvert_exporter": "python",
   "pygments_lexer": "ipython3",
   "version": "3.7.0"
  }
 },
 "nbformat": 4,
 "nbformat_minor": 5
}
