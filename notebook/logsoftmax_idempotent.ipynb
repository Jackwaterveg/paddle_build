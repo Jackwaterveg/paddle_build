{
 "cells": [
  {
   "cell_type": "code",
   "execution_count": 6,
   "id": "5d0e41be",
   "metadata": {},
   "outputs": [],
   "source": [
    "import torch\n",
    "import torch.nn.functional as F"
   ]
  },
  {
   "cell_type": "code",
   "execution_count": 3,
   "id": "cc852b76",
   "metadata": {},
   "outputs": [
    {
     "name": "stdout",
     "output_type": "stream",
     "text": [
      "torch.Size([32, 10, 256])\n"
     ]
    }
   ],
   "source": [
    "logits = torch.randn(32, 10, 256)\n",
    "print(logits.shape)"
   ]
  },
  {
   "cell_type": "code",
   "execution_count": 11,
   "id": "8e5c4fa9",
   "metadata": {},
   "outputs": [
    {
     "name": "stdout",
     "output_type": "stream",
     "text": [
      "tensor([[0.0105, 0.0608, 0.0083,  ..., 0.0298, 0.0133, 0.0032],\n",
      "        [0.0198, 0.0111, 0.0299,  ..., 0.0073, 0.0037, 0.0440],\n",
      "        [0.0581, 0.0069, 0.0040,  ..., 0.0085, 0.0251, 0.0063],\n",
      "        ...,\n",
      "        [0.0105, 0.0086, 0.0104,  ..., 0.0700, 0.0613, 0.0137],\n",
      "        [0.0648, 0.0134, 0.0228,  ..., 0.1732, 0.0334, 0.0051],\n",
      "        [0.0109, 0.0867, 0.0148,  ..., 0.0053, 0.0125, 0.0358]])\n",
      "tensor([[0.0306, 0.0322, 0.0305,  ..., 0.0312, 0.0307, 0.0303],\n",
      "        [0.0309, 0.0306, 0.0312,  ..., 0.0305, 0.0304, 0.0316],\n",
      "        [0.0321, 0.0305, 0.0304,  ..., 0.0305, 0.0310, 0.0305],\n",
      "        ...,\n",
      "        [0.0306, 0.0305, 0.0306,  ..., 0.0325, 0.0322, 0.0307],\n",
      "        [0.0323, 0.0307, 0.0310,  ..., 0.0360, 0.0313, 0.0304],\n",
      "        [0.0306, 0.0330, 0.0307,  ..., 0.0304, 0.0306, 0.0314]])\n"
     ]
    },
    {
     "name": "stderr",
     "output_type": "stream",
     "text": [
      "/workspace/DeepSpeech-2.x/tools/venv/lib/python3.7/site-packages/ipykernel_launcher.py:1: UserWarning: Implicit dimension choice for softmax has been deprecated. Change the call to include dim=X as an argument.\n",
      "  \"\"\"Entry point for launching an IPython kernel.\n",
      "/workspace/DeepSpeech-2.x/tools/venv/lib/python3.7/site-packages/ipykernel_launcher.py:3: UserWarning: Implicit dimension choice for softmax has been deprecated. Change the call to include dim=X as an argument.\n",
      "  This is separate from the ipykernel package so we can avoid doing imports until\n"
     ]
    }
   ],
   "source": [
    "# softmax is not idempotent\n",
    "probs = F.softmax(logits)\n",
    "print(probs[0])\n",
    "pprobs = F.softmax(probs)\n",
    "print(pprobs[0])"
   ]
  },
  {
   "cell_type": "code",
   "execution_count": 16,
   "id": "449e2ca7",
   "metadata": {},
   "outputs": [
    {
     "name": "stdout",
     "output_type": "stream",
     "text": [
      "tensor([[-4.5583, -2.7997, -4.7860,  ..., -3.5130, -4.3199, -5.7474],\n",
      "        [-3.9224, -4.5015, -3.5100,  ..., -4.9203, -5.6071, -3.1234],\n",
      "        [-2.8464, -4.9733, -5.5309,  ..., -4.7703, -3.6835, -5.0669],\n",
      "        ...,\n",
      "        [-4.5568, -4.7574, -4.5682,  ..., -2.6587, -2.7915, -4.2939],\n",
      "        [-2.7360, -4.3161, -3.7797,  ..., -1.7531, -3.3978, -5.2746],\n",
      "        [-4.5224, -2.4449, -4.2109,  ..., -5.2330, -4.3797, -3.3299]])\n",
      "tensor([[-4.5583, -2.7997, -4.7860,  ..., -3.5130, -4.3199, -5.7474],\n",
      "        [-3.9224, -4.5015, -3.5100,  ..., -4.9203, -5.6071, -3.1234],\n",
      "        [-2.8464, -4.9733, -5.5309,  ..., -4.7703, -3.6835, -5.0669],\n",
      "        ...,\n",
      "        [-4.5568, -4.7574, -4.5682,  ..., -2.6587, -2.7915, -4.2939],\n",
      "        [-2.7360, -4.3161, -3.7797,  ..., -1.7531, -3.3978, -5.2746],\n",
      "        [-4.5224, -2.4449, -4.2109,  ..., -5.2330, -4.3797, -3.3299]])\n"
     ]
    },
    {
     "name": "stderr",
     "output_type": "stream",
     "text": [
      "/workspace/DeepSpeech-2.x/tools/venv/lib/python3.7/site-packages/ipykernel_launcher.py:2: UserWarning: Implicit dimension choice for log_softmax has been deprecated. Change the call to include dim=X as an argument.\n",
      "  \n",
      "/workspace/DeepSpeech-2.x/tools/venv/lib/python3.7/site-packages/ipykernel_launcher.py:4: UserWarning: Implicit dimension choice for log_softmax has been deprecated. Change the call to include dim=X as an argument.\n",
      "  after removing the cwd from sys.path.\n"
     ]
    }
   ],
   "source": [
    "# log_softmax is not idempotent\n",
    "logprob=F.log_softmax(logits)\n",
    "print(logprob[0])\n",
    "loglogprob=F.log_softmax(logprob)\n",
    "print(loglogprob[0])"
   ]
  },
  {
   "cell_type": "code",
   "execution_count": null,
   "id": "9d4158ff",
   "metadata": {},
   "outputs": [],
   "source": []
  }
 ],
 "metadata": {
  "kernelspec": {
   "display_name": "Python 3 (ipykernel)",
   "language": "python",
   "name": "python3"
  },
  "language_info": {
   "codemirror_mode": {
    "name": "ipython",
    "version": 3
   },
   "file_extension": ".py",
   "mimetype": "text/x-python",
   "name": "python",
   "nbconvert_exporter": "python",
   "pygments_lexer": "ipython3",
   "version": "3.7.0"
  }
 },
 "nbformat": 4,
 "nbformat_minor": 5
}
